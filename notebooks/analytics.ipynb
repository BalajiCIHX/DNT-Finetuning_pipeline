{
 "cells": [
  {
   "cell_type": "code",
   "execution_count": 8,
   "metadata": {},
   "outputs": [
    {
     "data": {
      "text/plain": [
       "(38455, 64)"
      ]
     },
     "execution_count": 8,
     "metadata": {},
     "output_type": "execute_result"
    }
   ],
   "source": [
    "import pandas as pd\n",
    "\n",
    "data = pd.read_csv('/home/balajic/workdir/donut_training_pipeline/database/training_data_zt.csv')\n",
    "# data = data[data['']]\n",
    "data.shape"
   ]
  },
  {
   "cell_type": "code",
   "execution_count": 9,
   "metadata": {},
   "outputs": [],
   "source": [
    "claims = data.claim_id.unique().tolist()"
   ]
  },
  {
   "cell_type": "code",
   "execution_count": 10,
   "metadata": {},
   "outputs": [
    {
     "data": {
      "text/plain": [
       "5200"
      ]
     },
     "execution_count": 10,
     "metadata": {},
     "output_type": "execute_result"
    }
   ],
   "source": [
    "len(claims)"
   ]
  },
  {
   "cell_type": "code",
   "execution_count": 11,
   "metadata": {},
   "outputs": [],
   "source": [
    "# save only qc pass claims\n",
    "df = pd.DataFrame(claims, columns=['claim_id'])\n",
    "df.to_csv('/home/balajic/workdir/donut_training_pipeline/database/zt_claims.csv', index=False)"
   ]
  },
  {
   "cell_type": "code",
   "execution_count": 15,
   "metadata": {},
   "outputs": [
    {
     "name": "stdout",
     "output_type": "stream",
     "text": [
      "claim_id\n",
      "1\n"
     ]
    }
   ],
   "source": [
    "zt_claims = pd.read_csv('/home/balajic/workdir/donut_training_pipeline/database/zt_claims.csv')\n",
    "claims = pd.read_csv('/home/balajic/workdir/donut_training_pipeline/database/qc_pass_claims.csv')\n",
    "\n",
    "count = 0\n",
    "for claim in zt_claims:\n",
    "    if claim in claims:\n",
    "        print(claim)\n",
    "        count += 1\n",
    "\n",
    "print(count)"
   ]
  },
  {
   "cell_type": "code",
   "execution_count": 19,
   "metadata": {},
   "outputs": [],
   "source": [
    "zt = pd.read_csv('/home/balajic/workdir/donut_training_pipeline/database/training_data_zt.csv')\n",
    "t = zt[zt['extraction_label']=='LABEL_DETAIL_BILL'].claim_id.unique().tolist()"
   ]
  },
  {
   "cell_type": "code",
   "execution_count": 22,
   "metadata": {},
   "outputs": [
    {
     "data": {
      "text/plain": [
       "1695"
      ]
     },
     "execution_count": 22,
     "metadata": {},
     "output_type": "execute_result"
    }
   ],
   "source": [
    "zt = pd.read_csv('/home/balajic/workdir/donut_training_pipeline/database/training_data.csv')\n",
    "t = zt[zt['extraction_label']=='LABEL_SUMMARY_BILL'].claim_id.unique().tolist()\n",
    "len(t)"
   ]
  },
  {
   "cell_type": "code",
   "execution_count": null,
   "metadata": {},
   "outputs": [],
   "source": []
  }
 ],
 "metadata": {
  "kernelspec": {
   "display_name": "postgres",
   "language": "python",
   "name": "python3"
  },
  "language_info": {
   "codemirror_mode": {
    "name": "ipython",
    "version": 3
   },
   "file_extension": ".py",
   "mimetype": "text/x-python",
   "name": "python",
   "nbconvert_exporter": "python",
   "pygments_lexer": "ipython3",
   "version": "3.10.13"
  }
 },
 "nbformat": 4,
 "nbformat_minor": 2
}
