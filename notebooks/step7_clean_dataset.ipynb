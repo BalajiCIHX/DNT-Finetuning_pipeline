{
 "cells": [
  {
   "cell_type": "code",
   "execution_count": 1,
   "metadata": {},
   "outputs": [],
   "source": [
    "import os\n",
    "import jsonlines\n",
    "\n",
    "def read_jsonlines_file(file_path):\n",
    "    \"\"\"\n",
    "    Reads a jsonlines file and returns a file object.\n",
    "\n",
    "    Args:\n",
    "        file_path (str): The path to the jsonlines file.\n",
    "\n",
    "    Returns:\n",
    "        file: A file object representing the opened jsonlines file.\n",
    "    \"\"\"\n",
    "    file = jsonlines.open(file_path)\n",
    "    return file\n",
    "\n",
    "# read the jsonlines file\n",
    "file = read_jsonlines_file('/home/balajic/workdir/validation_metadata.jsonl')"
   ]
  },
  {
   "cell_type": "code",
   "execution_count": 2,
   "metadata": {},
   "outputs": [],
   "source": [
    "# dataset path\n",
    "path = '/home/balajic/workdir/donut_training_pipeline/dataset/validation/'\n",
    "dest_path = '/home/balajic/workdir/donut_training_pipeline/training_donut/validation/'"
   ]
  },
  {
   "cell_type": "code",
   "execution_count": 5,
   "metadata": {},
   "outputs": [],
   "source": [
    "import shutil\n",
    "# read line from file, everyline has a file_name key - copy this file into the dest_path\n",
    "# Open the file\n",
    "with jsonlines.open('/home/balajic/workdir/validation_metadata.jsonl') as file:\n",
    "    # Iterate over each line in the file\n",
    "    for line in file.iter():\n",
    "        # Get the file name from the line\n",
    "        file_name = line['file_name']\n",
    "        \n",
    "        # Construct the source file path\n",
    "        source_file_path = os.path.join(path, file_name)\n",
    "        \n",
    "        # Construct the destination file path\n",
    "        destination_file_path = os.path.join(dest_path, file_name)\n",
    "        \n",
    "        # Copy the file to the destination path\n",
    "        shutil.copyfile(source_file_path, destination_file_path)\n"
   ]
  },
  {
   "cell_type": "code",
   "execution_count": 14,
   "metadata": {},
   "outputs": [],
   "source": [
    "import jsonlines\n",
    "result = []\n",
    "with jsonlines.open(\"/home/balajic/workdir/donut_training_pipeline/multipager_donut/\" + f\"validation/metadata.jsonl\", 'r') as wr:\n",
    "    for line in wr.iter():\n",
    "        result.append(line)\n",
    "    # result = wr.read()"
   ]
  },
  {
   "cell_type": "code",
   "execution_count": 13,
   "metadata": {},
   "outputs": [],
   "source": [
    "#parse the jsonlines file\n",
    "for i in result:\n",
    "    if 'ground_truth' not in i.keys():\n",
    "        print(i)\n",
    "        # break"
   ]
  },
  {
   "cell_type": "code",
   "execution_count": 2,
   "metadata": {},
   "outputs": [
    {
     "ename": "ModuleNotFoundError",
     "evalue": "No module named 'cv2'",
     "output_type": "error",
     "traceback": [
      "\u001b[0;31m---------------------------------------------------------------------------\u001b[0m",
      "\u001b[0;31mModuleNotFoundError\u001b[0m                       Traceback (most recent call last)",
      "Cell \u001b[0;32mIn[2], line 1\u001b[0m\n\u001b[0;32m----> 1\u001b[0m \u001b[38;5;28;01mimport\u001b[39;00m \u001b[38;5;21;01mcv2\u001b[39;00m\n\u001b[1;32m      3\u001b[0m img \u001b[38;5;241m=\u001b[39m cv2\u001b[38;5;241m.\u001b[39mimread(\u001b[38;5;124m\"\u001b[39m\u001b[38;5;124m/home/balajic/workdir/donut_training_pipeline/multipager_donut/validation/20911040-Amzn:Root=1-65b59262-4ec5979253a7af78178f6780-page_7.jpeg\u001b[39m\u001b[38;5;124m\"\u001b[39m)\n",
      "\u001b[0;31mModuleNotFoundError\u001b[0m: No module named 'cv2'"
     ]
    }
   ],
   "source": [
    "import cv2\n",
    "\n",
    "img = cv2.imread(\"/home/balajic/workdir/donut_training_pipeline/multipager_donut/validation/20911040-Amzn:Root=1-65b59262-4ec5979253a7af78178f6780-page_7.jpeg\")"
   ]
  },
  {
   "cell_type": "code",
   "execution_count": null,
   "metadata": {},
   "outputs": [],
   "source": []
  }
 ],
 "metadata": {
  "kernelspec": {
   "display_name": "analytics",
   "language": "python",
   "name": "python3"
  },
  "language_info": {
   "codemirror_mode": {
    "name": "ipython",
    "version": 3
   },
   "file_extension": ".py",
   "mimetype": "text/x-python",
   "name": "python",
   "nbconvert_exporter": "python",
   "pygments_lexer": "ipython3",
   "version": "3.10.13"
  }
 },
 "nbformat": 4,
 "nbformat_minor": 2
}
